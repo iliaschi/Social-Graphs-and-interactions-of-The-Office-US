{
 "cells": [
  {
   "cell_type": "code",
   "execution_count": 1,
   "id": "e765d740",
   "metadata": {},
   "outputs": [
    {
     "name": "stdout",
     "output_type": "stream",
     "text": [
      "CSV file has been saved successfully to C:\\Users\\Lado\\Google Drive\\SocialGraphs\\Untitled Folder\\cast_details.csv.\n"
     ]
    }
   ],
   "source": [
    "import requests\n",
    "from bs4 import BeautifulSoup\n",
    "import pandas as pd\n",
    "import re\n",
    "\n",
    "# URL of the IMDb full credits page\n",
    "url = 'https://www.imdb.com/title/tt0386676/fullcredits/?ref_=tt_cl_sm'\n",
    "\n",
    "# Send a GET request to the IMDb page\n",
    "response = requests.get(url)\n",
    "\n",
    "# Check if the request was successful\n",
    "if response.status_code == 200:\n",
    "    # Parse the HTML content\n",
    "    soup = BeautifulSoup(response.content, 'html.parser')\n",
    "    \n",
    "    # Locate the 'Series Cast' section\n",
    "    cast_list = soup.find('table', class_='cast_list')\n",
    "\n",
    "    # Lists to store the scraped data\n",
    "    actors, full_info = [], []\n",
    "\n",
    "    # Extract data for all columns\n",
    "    for row in cast_list.find_all('tr'):\n",
    "        cols = row.find_all('td')\n",
    "        if len(cols) > 3:\n",
    "            # Append actor name\n",
    "            actors.append(cols[1].get_text(strip=True))\n",
    "            # Append full character info\n",
    "            full_info.append(cols[3].get_text(strip=True))\n",
    "\n",
    "    # Create a DataFrame with the initial data\n",
    "    df = pd.DataFrame({\n",
    "        'Actor': actors,\n",
    "        'FullInfo': full_info\n",
    "    })\n",
    "\n",
    "    # Define a regular expression pattern to extract the character name, episode count, and years\n",
    "    pattern = r'(?P<Character>[^\\d/]+?)(?:/ ...)?\\s*(?P<Episodes_Count>\\d+)?\\s*episodes?,?\\s*(?P<Years>\\d{4}(?:-\\d{4})?)?(?:\\(uncredited\\))?'\n",
    "    \n",
    "    # Extract the pattern into new columns\n",
    "    df_extracted = df['FullInfo'].str.extract(pattern)\n",
    "\n",
    "    # Concatenate the new columns to the original dataframe\n",
    "    df_final = pd.concat([df['Actor'], df_extracted], axis=1)\n",
    "\n",
    "    # Define the path for the CSV file\n",
    "    csv_file_path = 'C:\\\\Users\\\\Lado\\\\Google Drive\\\\SocialGraphs\\\\Untitled Folder\\\\cast_details.csv'\n",
    "\n",
    "    # Save the DataFrame to a CSV file\n",
    "    df_final.to_csv(csv_file_path, index=False)\n",
    "    print(f\"CSV file has been saved successfully to {csv_file_path}.\")\n",
    "else:\n",
    "    print(\"Failed to retrieve the IMDb page\")"
   ]
  }
 ],
 "metadata": {
  "kernelspec": {
   "display_name": "Python 3 (ipykernel)",
   "language": "python",
   "name": "python3"
  },
  "language_info": {
   "codemirror_mode": {
    "name": "ipython",
    "version": 3
   },
   "file_extension": ".py",
   "mimetype": "text/x-python",
   "name": "python",
   "nbconvert_exporter": "python",
   "pygments_lexer": "ipython3",
   "version": "3.10.6"
  }
 },
 "nbformat": 4,
 "nbformat_minor": 5
}
